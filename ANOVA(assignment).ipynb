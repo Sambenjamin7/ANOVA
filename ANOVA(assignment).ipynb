{
  "nbformat": 4,
  "nbformat_minor": 0,
  "metadata": {
    "colab": {
      "name": "ANOVA(assignment).ipynb",
      "provenance": [],
      "authorship_tag": "ABX9TyNcu3ved2oLZVb7/scyyQG4",
      "include_colab_link": true
    },
    "kernelspec": {
      "name": "python3",
      "display_name": "Python 3"
    },
    "language_info": {
      "name": "python"
    }
  },
  "cells": [
    {
      "cell_type": "markdown",
      "metadata": {
        "id": "view-in-github",
        "colab_type": "text"
      },
      "source": [
        "<a href=\"https://colab.research.google.com/github/Sambenjamin7/ANOVA/blob/main/ANOVA(assignment).ipynb\" target=\"_parent\"><img src=\"https://colab.research.google.com/assets/colab-badge.svg\" alt=\"Open In Colab\"/></a>"
      ]
    },
    {
      "cell_type": "code",
      "metadata": {
        "colab": {
          "base_uri": "https://localhost:8080/"
        },
        "id": "HELGboT-CvmM",
        "outputId": "8481331c-610c-4aef-e2c2-35aaac3786ac"
      },
      "source": [
        "import pandas as pd\n",
        "import scipy.stats as stats\n",
        "import statsmodels.formula.api as smf\n",
        "from scipy.stats import f_oneway\n",
        "import matplotlib.pyplot as plt\n",
        "from scipy.stats import kurtosis, skew, bartlett\n",
        "import statsmodels.stats.multicomp as mc\n",
        "import numpy as np \n"
      ],
      "execution_count": null,
      "outputs": [
        {
          "output_type": "stream",
          "name": "stderr",
          "text": [
            "/usr/local/lib/python3.7/dist-packages/statsmodels/tools/_testing.py:19: FutureWarning: pandas.util.testing is deprecated. Use the functions in the public API at pandas.testing instead.\n",
            "  import pandas.util.testing as tm\n"
          ]
        }
      ]
    },
    {
      "cell_type": "code",
      "metadata": {
        "colab": {
          "base_uri": "https://localhost:8080/",
          "height": 439
        },
        "id": "ewf1eStsZzHZ",
        "outputId": "63f1159e-b470-4682-8382-87afa0fc4ab5"
      },
      "source": [
        "diabetes1 = pd.read_csv('Dataset of Diabetes  (1).csv')\n",
        "diabetes1"
      ],
      "execution_count": null,
      "outputs": [
        {
          "output_type": "execute_result",
          "data": {
            "text/html": [
              "<div>\n",
              "<style scoped>\n",
              "    .dataframe tbody tr th:only-of-type {\n",
              "        vertical-align: middle;\n",
              "    }\n",
              "\n",
              "    .dataframe tbody tr th {\n",
              "        vertical-align: top;\n",
              "    }\n",
              "\n",
              "    .dataframe thead th {\n",
              "        text-align: right;\n",
              "    }\n",
              "</style>\n",
              "<table border=\"1\" class=\"dataframe\">\n",
              "  <thead>\n",
              "    <tr style=\"text-align: right;\">\n",
              "      <th></th>\n",
              "      <th>ID</th>\n",
              "      <th>No_Pation</th>\n",
              "      <th>Gender</th>\n",
              "      <th>AGE</th>\n",
              "      <th>Urea</th>\n",
              "      <th>Cr</th>\n",
              "      <th>HbA1c</th>\n",
              "      <th>Chol</th>\n",
              "      <th>TG</th>\n",
              "      <th>HDL</th>\n",
              "      <th>LDL</th>\n",
              "      <th>VLDL</th>\n",
              "      <th>BMI</th>\n",
              "      <th>CLASS</th>\n",
              "    </tr>\n",
              "  </thead>\n",
              "  <tbody>\n",
              "    <tr>\n",
              "      <th>0</th>\n",
              "      <td>502</td>\n",
              "      <td>17975</td>\n",
              "      <td>F</td>\n",
              "      <td>50</td>\n",
              "      <td>4.7</td>\n",
              "      <td>46</td>\n",
              "      <td>4.9</td>\n",
              "      <td>4.2</td>\n",
              "      <td>0.9</td>\n",
              "      <td>2.4</td>\n",
              "      <td>1.4</td>\n",
              "      <td>0.5</td>\n",
              "      <td>24.0</td>\n",
              "      <td>N</td>\n",
              "    </tr>\n",
              "    <tr>\n",
              "      <th>1</th>\n",
              "      <td>735</td>\n",
              "      <td>34221</td>\n",
              "      <td>M</td>\n",
              "      <td>26</td>\n",
              "      <td>4.5</td>\n",
              "      <td>62</td>\n",
              "      <td>4.9</td>\n",
              "      <td>3.7</td>\n",
              "      <td>1.4</td>\n",
              "      <td>1.1</td>\n",
              "      <td>2.1</td>\n",
              "      <td>0.6</td>\n",
              "      <td>23.0</td>\n",
              "      <td>N</td>\n",
              "    </tr>\n",
              "    <tr>\n",
              "      <th>2</th>\n",
              "      <td>420</td>\n",
              "      <td>47975</td>\n",
              "      <td>F</td>\n",
              "      <td>50</td>\n",
              "      <td>4.7</td>\n",
              "      <td>46</td>\n",
              "      <td>4.9</td>\n",
              "      <td>4.2</td>\n",
              "      <td>0.9</td>\n",
              "      <td>2.4</td>\n",
              "      <td>1.4</td>\n",
              "      <td>0.5</td>\n",
              "      <td>24.0</td>\n",
              "      <td>N</td>\n",
              "    </tr>\n",
              "    <tr>\n",
              "      <th>3</th>\n",
              "      <td>680</td>\n",
              "      <td>87656</td>\n",
              "      <td>F</td>\n",
              "      <td>50</td>\n",
              "      <td>4.7</td>\n",
              "      <td>46</td>\n",
              "      <td>4.9</td>\n",
              "      <td>4.2</td>\n",
              "      <td>0.9</td>\n",
              "      <td>2.4</td>\n",
              "      <td>1.4</td>\n",
              "      <td>0.5</td>\n",
              "      <td>24.0</td>\n",
              "      <td>N</td>\n",
              "    </tr>\n",
              "    <tr>\n",
              "      <th>4</th>\n",
              "      <td>504</td>\n",
              "      <td>34223</td>\n",
              "      <td>M</td>\n",
              "      <td>33</td>\n",
              "      <td>7.1</td>\n",
              "      <td>46</td>\n",
              "      <td>4.9</td>\n",
              "      <td>4.9</td>\n",
              "      <td>1.0</td>\n",
              "      <td>0.8</td>\n",
              "      <td>2.0</td>\n",
              "      <td>0.4</td>\n",
              "      <td>21.0</td>\n",
              "      <td>N</td>\n",
              "    </tr>\n",
              "    <tr>\n",
              "      <th>...</th>\n",
              "      <td>...</td>\n",
              "      <td>...</td>\n",
              "      <td>...</td>\n",
              "      <td>...</td>\n",
              "      <td>...</td>\n",
              "      <td>...</td>\n",
              "      <td>...</td>\n",
              "      <td>...</td>\n",
              "      <td>...</td>\n",
              "      <td>...</td>\n",
              "      <td>...</td>\n",
              "      <td>...</td>\n",
              "      <td>...</td>\n",
              "      <td>...</td>\n",
              "    </tr>\n",
              "    <tr>\n",
              "      <th>995</th>\n",
              "      <td>200</td>\n",
              "      <td>454317</td>\n",
              "      <td>M</td>\n",
              "      <td>71</td>\n",
              "      <td>11.0</td>\n",
              "      <td>97</td>\n",
              "      <td>7.0</td>\n",
              "      <td>7.5</td>\n",
              "      <td>1.7</td>\n",
              "      <td>1.2</td>\n",
              "      <td>1.8</td>\n",
              "      <td>0.6</td>\n",
              "      <td>30.0</td>\n",
              "      <td>Y</td>\n",
              "    </tr>\n",
              "    <tr>\n",
              "      <th>996</th>\n",
              "      <td>671</td>\n",
              "      <td>876534</td>\n",
              "      <td>M</td>\n",
              "      <td>31</td>\n",
              "      <td>3.0</td>\n",
              "      <td>60</td>\n",
              "      <td>12.3</td>\n",
              "      <td>4.1</td>\n",
              "      <td>2.2</td>\n",
              "      <td>0.7</td>\n",
              "      <td>2.4</td>\n",
              "      <td>15.4</td>\n",
              "      <td>37.2</td>\n",
              "      <td>Y</td>\n",
              "    </tr>\n",
              "    <tr>\n",
              "      <th>997</th>\n",
              "      <td>669</td>\n",
              "      <td>87654</td>\n",
              "      <td>M</td>\n",
              "      <td>30</td>\n",
              "      <td>7.1</td>\n",
              "      <td>81</td>\n",
              "      <td>6.7</td>\n",
              "      <td>4.1</td>\n",
              "      <td>1.1</td>\n",
              "      <td>1.2</td>\n",
              "      <td>2.4</td>\n",
              "      <td>8.1</td>\n",
              "      <td>27.4</td>\n",
              "      <td>Y</td>\n",
              "    </tr>\n",
              "    <tr>\n",
              "      <th>998</th>\n",
              "      <td>99</td>\n",
              "      <td>24004</td>\n",
              "      <td>M</td>\n",
              "      <td>38</td>\n",
              "      <td>5.8</td>\n",
              "      <td>59</td>\n",
              "      <td>6.7</td>\n",
              "      <td>5.3</td>\n",
              "      <td>2.0</td>\n",
              "      <td>1.6</td>\n",
              "      <td>2.9</td>\n",
              "      <td>14.0</td>\n",
              "      <td>40.5</td>\n",
              "      <td>Y</td>\n",
              "    </tr>\n",
              "    <tr>\n",
              "      <th>999</th>\n",
              "      <td>248</td>\n",
              "      <td>24054</td>\n",
              "      <td>M</td>\n",
              "      <td>54</td>\n",
              "      <td>5.0</td>\n",
              "      <td>67</td>\n",
              "      <td>6.9</td>\n",
              "      <td>3.8</td>\n",
              "      <td>1.7</td>\n",
              "      <td>1.1</td>\n",
              "      <td>3.0</td>\n",
              "      <td>0.7</td>\n",
              "      <td>33.0</td>\n",
              "      <td>Y</td>\n",
              "    </tr>\n",
              "  </tbody>\n",
              "</table>\n",
              "<p>1000 rows × 14 columns</p>\n",
              "</div>"
            ],
            "text/plain": [
              "      ID  No_Pation Gender  AGE  Urea  Cr  ...   TG  HDL  LDL  VLDL   BMI  CLASS\n",
              "0    502      17975      F   50   4.7  46  ...  0.9  2.4  1.4   0.5  24.0      N\n",
              "1    735      34221      M   26   4.5  62  ...  1.4  1.1  2.1   0.6  23.0      N\n",
              "2    420      47975      F   50   4.7  46  ...  0.9  2.4  1.4   0.5  24.0      N\n",
              "3    680      87656      F   50   4.7  46  ...  0.9  2.4  1.4   0.5  24.0      N\n",
              "4    504      34223      M   33   7.1  46  ...  1.0  0.8  2.0   0.4  21.0      N\n",
              "..   ...        ...    ...  ...   ...  ..  ...  ...  ...  ...   ...   ...    ...\n",
              "995  200     454317      M   71  11.0  97  ...  1.7  1.2  1.8   0.6  30.0      Y\n",
              "996  671     876534      M   31   3.0  60  ...  2.2  0.7  2.4  15.4  37.2     Y \n",
              "997  669      87654      M   30   7.1  81  ...  1.1  1.2  2.4   8.1  27.4     Y \n",
              "998   99      24004      M   38   5.8  59  ...  2.0  1.6  2.9  14.0  40.5     Y \n",
              "999  248      24054      M   54   5.0  67  ...  1.7  1.1  3.0   0.7  33.0     Y \n",
              "\n",
              "[1000 rows x 14 columns]"
            ]
          },
          "metadata": {},
          "execution_count": 64
        }
      ]
    },
    {
      "cell_type": "code",
      "metadata": {
        "id": "oJh-KWxNZkmd"
      },
      "source": [
        "diabetes1['CLASS'] = diabetes1['CLASS'].replace(np.NaN, 'other')"
      ],
      "execution_count": null,
      "outputs": []
    },
    {
      "cell_type": "code",
      "metadata": {
        "id": "24UJNXHtZqKt"
      },
      "source": [
        "diabetes1['Gender'] = diabetes1['Gender'].replace(np.NaN, 'f')"
      ],
      "execution_count": null,
      "outputs": []
    },
    {
      "cell_type": "code",
      "metadata": {
        "colab": {
          "base_uri": "https://localhost:8080/"
        },
        "id": "TXQy_oGmZtBz",
        "outputId": "a1cc2d02-d99a-4f7a-8387-420995f8a906"
      },
      "source": [
        "diabetes1.CLASS.value_counts()"
      ],
      "execution_count": null,
      "outputs": [
        {
          "output_type": "execute_result",
          "data": {
            "text/plain": [
              "Y     840\n",
              "N     102\n",
              "P      53\n",
              "Y       4\n",
              "N       1\n",
              "Name: CLASS, dtype: int64"
            ]
          },
          "metadata": {},
          "execution_count": 67
        }
      ]
    },
    {
      "cell_type": "code",
      "metadata": {
        "colab": {
          "base_uri": "https://localhost:8080/"
        },
        "id": "piZZ5fUyZwC_",
        "outputId": "1d67ac01-d009-4257-ecab-3ee1d4d99042"
      },
      "source": [
        "diabetes1.Gender.value_counts()"
      ],
      "execution_count": null,
      "outputs": [
        {
          "output_type": "execute_result",
          "data": {
            "text/plain": [
              "M    565\n",
              "F    434\n",
              "f      1\n",
              "Name: Gender, dtype: int64"
            ]
          },
          "metadata": {},
          "execution_count": 68
        }
      ]
    },
    {
      "cell_type": "markdown",
      "metadata": {
        "id": "0ZT2zPqNZ20R"
      },
      "source": [
        "Assignment start here \n",
        "DV: (Body Mass Index(initial but it is a string so it will not work)), Average Glucose level\n",
        "\n",
        "IV: All contain 3 parameters 1.Smoking status: smokes, formerly smokes, never smokes\n",
        "Gender: male, female, other\n",
        "Work type: self employed, private, children,never worked, government job"
      ]
    },
    {
      "cell_type": "code",
      "metadata": {
        "id": "O6V_7p-DFC-T"
      },
      "source": [
        "diabetes2 = pd.read_csv('healthcare-dataset-stroke-data.csv')"
      ],
      "execution_count": null,
      "outputs": []
    },
    {
      "cell_type": "code",
      "metadata": {
        "colab": {
          "base_uri": "https://localhost:8080/",
          "height": 507
        },
        "id": "B0T25A0-FFdW",
        "outputId": "01c51929-40eb-4c14-8e55-94e6396dad45"
      },
      "source": [
        "diabetes2"
      ],
      "execution_count": null,
      "outputs": [
        {
          "output_type": "execute_result",
          "data": {
            "text/html": [
              "<div>\n",
              "<style scoped>\n",
              "    .dataframe tbody tr th:only-of-type {\n",
              "        vertical-align: middle;\n",
              "    }\n",
              "\n",
              "    .dataframe tbody tr th {\n",
              "        vertical-align: top;\n",
              "    }\n",
              "\n",
              "    .dataframe thead th {\n",
              "        text-align: right;\n",
              "    }\n",
              "</style>\n",
              "<table border=\"1\" class=\"dataframe\">\n",
              "  <thead>\n",
              "    <tr style=\"text-align: right;\">\n",
              "      <th></th>\n",
              "      <th>id</th>\n",
              "      <th>gender</th>\n",
              "      <th>age</th>\n",
              "      <th>hypertension</th>\n",
              "      <th>heart_disease</th>\n",
              "      <th>ever_married</th>\n",
              "      <th>work_type</th>\n",
              "      <th>Residence_type</th>\n",
              "      <th>avg_glucose_level</th>\n",
              "      <th>bmi</th>\n",
              "      <th>smoking_status</th>\n",
              "      <th>stroke</th>\n",
              "    </tr>\n",
              "  </thead>\n",
              "  <tbody>\n",
              "    <tr>\n",
              "      <th>0</th>\n",
              "      <td>9046</td>\n",
              "      <td>Male</td>\n",
              "      <td>67.0</td>\n",
              "      <td>0</td>\n",
              "      <td>1</td>\n",
              "      <td>Yes</td>\n",
              "      <td>Private</td>\n",
              "      <td>Urban</td>\n",
              "      <td>228.69</td>\n",
              "      <td>36.6</td>\n",
              "      <td>formerly smoked</td>\n",
              "      <td>1</td>\n",
              "    </tr>\n",
              "    <tr>\n",
              "      <th>1</th>\n",
              "      <td>51676</td>\n",
              "      <td>Female</td>\n",
              "      <td>61.0</td>\n",
              "      <td>0</td>\n",
              "      <td>0</td>\n",
              "      <td>Yes</td>\n",
              "      <td>Self-employed</td>\n",
              "      <td>Rural</td>\n",
              "      <td>202.21</td>\n",
              "      <td>NaN</td>\n",
              "      <td>never smoked</td>\n",
              "      <td>1</td>\n",
              "    </tr>\n",
              "    <tr>\n",
              "      <th>2</th>\n",
              "      <td>31112</td>\n",
              "      <td>Male</td>\n",
              "      <td>80.0</td>\n",
              "      <td>0</td>\n",
              "      <td>1</td>\n",
              "      <td>Yes</td>\n",
              "      <td>Private</td>\n",
              "      <td>Rural</td>\n",
              "      <td>105.92</td>\n",
              "      <td>32.5</td>\n",
              "      <td>never smoked</td>\n",
              "      <td>1</td>\n",
              "    </tr>\n",
              "    <tr>\n",
              "      <th>3</th>\n",
              "      <td>60182</td>\n",
              "      <td>Female</td>\n",
              "      <td>49.0</td>\n",
              "      <td>0</td>\n",
              "      <td>0</td>\n",
              "      <td>Yes</td>\n",
              "      <td>Private</td>\n",
              "      <td>Urban</td>\n",
              "      <td>171.23</td>\n",
              "      <td>34.4</td>\n",
              "      <td>smokes</td>\n",
              "      <td>1</td>\n",
              "    </tr>\n",
              "    <tr>\n",
              "      <th>4</th>\n",
              "      <td>1665</td>\n",
              "      <td>Female</td>\n",
              "      <td>79.0</td>\n",
              "      <td>1</td>\n",
              "      <td>0</td>\n",
              "      <td>Yes</td>\n",
              "      <td>Self-employed</td>\n",
              "      <td>Rural</td>\n",
              "      <td>174.12</td>\n",
              "      <td>24.0</td>\n",
              "      <td>never smoked</td>\n",
              "      <td>1</td>\n",
              "    </tr>\n",
              "    <tr>\n",
              "      <th>...</th>\n",
              "      <td>...</td>\n",
              "      <td>...</td>\n",
              "      <td>...</td>\n",
              "      <td>...</td>\n",
              "      <td>...</td>\n",
              "      <td>...</td>\n",
              "      <td>...</td>\n",
              "      <td>...</td>\n",
              "      <td>...</td>\n",
              "      <td>...</td>\n",
              "      <td>...</td>\n",
              "      <td>...</td>\n",
              "    </tr>\n",
              "    <tr>\n",
              "      <th>5105</th>\n",
              "      <td>18234</td>\n",
              "      <td>Female</td>\n",
              "      <td>80.0</td>\n",
              "      <td>1</td>\n",
              "      <td>0</td>\n",
              "      <td>Yes</td>\n",
              "      <td>Private</td>\n",
              "      <td>Urban</td>\n",
              "      <td>83.75</td>\n",
              "      <td>NaN</td>\n",
              "      <td>never smoked</td>\n",
              "      <td>0</td>\n",
              "    </tr>\n",
              "    <tr>\n",
              "      <th>5106</th>\n",
              "      <td>44873</td>\n",
              "      <td>Female</td>\n",
              "      <td>81.0</td>\n",
              "      <td>0</td>\n",
              "      <td>0</td>\n",
              "      <td>Yes</td>\n",
              "      <td>Self-employed</td>\n",
              "      <td>Urban</td>\n",
              "      <td>125.20</td>\n",
              "      <td>40.0</td>\n",
              "      <td>never smoked</td>\n",
              "      <td>0</td>\n",
              "    </tr>\n",
              "    <tr>\n",
              "      <th>5107</th>\n",
              "      <td>19723</td>\n",
              "      <td>Female</td>\n",
              "      <td>35.0</td>\n",
              "      <td>0</td>\n",
              "      <td>0</td>\n",
              "      <td>Yes</td>\n",
              "      <td>Self-employed</td>\n",
              "      <td>Rural</td>\n",
              "      <td>82.99</td>\n",
              "      <td>30.6</td>\n",
              "      <td>never smoked</td>\n",
              "      <td>0</td>\n",
              "    </tr>\n",
              "    <tr>\n",
              "      <th>5108</th>\n",
              "      <td>37544</td>\n",
              "      <td>Male</td>\n",
              "      <td>51.0</td>\n",
              "      <td>0</td>\n",
              "      <td>0</td>\n",
              "      <td>Yes</td>\n",
              "      <td>Private</td>\n",
              "      <td>Rural</td>\n",
              "      <td>166.29</td>\n",
              "      <td>25.6</td>\n",
              "      <td>formerly smoked</td>\n",
              "      <td>0</td>\n",
              "    </tr>\n",
              "    <tr>\n",
              "      <th>5109</th>\n",
              "      <td>44679</td>\n",
              "      <td>Female</td>\n",
              "      <td>44.0</td>\n",
              "      <td>0</td>\n",
              "      <td>0</td>\n",
              "      <td>Yes</td>\n",
              "      <td>Govt_job</td>\n",
              "      <td>Urban</td>\n",
              "      <td>85.28</td>\n",
              "      <td>26.2</td>\n",
              "      <td>Unknown</td>\n",
              "      <td>0</td>\n",
              "    </tr>\n",
              "  </tbody>\n",
              "</table>\n",
              "<p>5110 rows × 12 columns</p>\n",
              "</div>"
            ],
            "text/plain": [
              "         id  gender   age  ...   bmi   smoking_status stroke\n",
              "0      9046    Male  67.0  ...  36.6  formerly smoked      1\n",
              "1     51676  Female  61.0  ...   NaN     never smoked      1\n",
              "2     31112    Male  80.0  ...  32.5     never smoked      1\n",
              "3     60182  Female  49.0  ...  34.4           smokes      1\n",
              "4      1665  Female  79.0  ...  24.0     never smoked      1\n",
              "...     ...     ...   ...  ...   ...              ...    ...\n",
              "5105  18234  Female  80.0  ...   NaN     never smoked      0\n",
              "5106  44873  Female  81.0  ...  40.0     never smoked      0\n",
              "5107  19723  Female  35.0  ...  30.6     never smoked      0\n",
              "5108  37544    Male  51.0  ...  25.6  formerly smoked      0\n",
              "5109  44679  Female  44.0  ...  26.2          Unknown      0\n",
              "\n",
              "[5110 rows x 12 columns]"
            ]
          },
          "metadata": {},
          "execution_count": 3
        }
      ]
    },
    {
      "cell_type": "code",
      "metadata": {
        "id": "Xa7PwPYtFI_5"
      },
      "source": [
        "diabetes2 ['bmi'] = diabetes2 ['bmi'].replace(np.NaN,'None')"
      ],
      "execution_count": null,
      "outputs": []
    },
    {
      "cell_type": "code",
      "metadata": {
        "colab": {
          "base_uri": "https://localhost:8080/"
        },
        "id": "0cY1D9V-FL_J",
        "outputId": "60a38ba8-faf6-4dea-f5e4-615e89438236"
      },
      "source": [
        "diabetes2.bmi.value_counts()"
      ],
      "execution_count": null,
      "outputs": [
        {
          "output_type": "execute_result",
          "data": {
            "text/plain": [
              "None    201\n",
              "28.7     41\n",
              "28.4     38\n",
              "26.1     37\n",
              "27.6     37\n",
              "       ... \n",
              "11.3      1\n",
              "48.0      1\n",
              "14.0      1\n",
              "13.2      1\n",
              "52.5      1\n",
              "Name: bmi, Length: 419, dtype: int64"
            ]
          },
          "metadata": {},
          "execution_count": 5
        }
      ]
    },
    {
      "cell_type": "code",
      "metadata": {
        "id": "ZetdY9q3FPdC"
      },
      "source": [
        "diabetes2 ['gender'] = diabetes2 ['gender'].replace(np.NaN, 'Other')"
      ],
      "execution_count": null,
      "outputs": []
    },
    {
      "cell_type": "code",
      "metadata": {
        "colab": {
          "base_uri": "https://localhost:8080/"
        },
        "id": "05eVRjhmFRux",
        "outputId": "c0abbc03-aa36-4bcf-f321-5c71fe4a68ef"
      },
      "source": [
        "diabetes2.gender.value_counts()"
      ],
      "execution_count": null,
      "outputs": [
        {
          "output_type": "execute_result",
          "data": {
            "text/plain": [
              "Female    2994\n",
              "Male      2115\n",
              "Other        1\n",
              "Name: gender, dtype: int64"
            ]
          },
          "metadata": {},
          "execution_count": 7
        }
      ]
    },
    {
      "cell_type": "markdown",
      "metadata": {
        "id": "wh3Vy8RaMl9J"
      },
      "source": [
        "Barlett Test/Homogenity Test "
      ]
    },
    {
      "cell_type": "code",
      "metadata": {
        "colab": {
          "base_uri": "https://localhost:8080/"
        },
        "id": "fCeCq1wwFVM_",
        "outputId": "5fec5c9e-1073-4927-94d1-3f1d08805d59"
      },
      "source": [
        "stats.bartlett(diabetes2['avg_glucose_level'][diabetes2['smoking_status'] == 'formerly smoked'],\n",
        "               diabetes2['avg_glucose_level'][diabetes2['smoking_status'] == 'smokes'],\n",
        "               diabetes2['avg_glucose_level'][diabetes2['smoking_status'] == 'never smoked'])"
      ],
      "execution_count": null,
      "outputs": [
        {
          "output_type": "execute_result",
          "data": {
            "text/plain": [
              "BartlettResult(statistic=16.556993178510275, pvalue=0.00025391865725707933)"
            ]
          },
          "metadata": {},
          "execution_count": 14
        }
      ]
    },
    {
      "cell_type": "code",
      "metadata": {
        "colab": {
          "base_uri": "https://localhost:8080/"
        },
        "id": "Uh6do3r0Luf0",
        "outputId": "b4d19f55-4c3b-4da5-945c-5cab6a967506"
      },
      "source": [
        "stats.bartlett(diabetes2['avg_glucose_level'][diabetes2['gender'] == 'Male'],\n",
        "               diabetes2['avg_glucose_level'][diabetes2['gender'] == 'Female'])"
      ],
      "execution_count": null,
      "outputs": [
        {
          "output_type": "execute_result",
          "data": {
            "text/plain": [
              "BartlettResult(statistic=17.84684281024991, pvalue=2.3941616405943625e-05)"
            ]
          },
          "metadata": {},
          "execution_count": 11
        }
      ]
    },
    {
      "cell_type": "code",
      "metadata": {
        "colab": {
          "base_uri": "https://localhost:8080/"
        },
        "id": "PP_bPkCJMEGX",
        "outputId": "aaa4f920-1eff-4d26-ae52-651f45dbecff"
      },
      "source": [
        "stats.bartlett(diabetes2['avg_glucose_level'][diabetes2['work_type'] == 'Govt_job'],\n",
        "               diabetes2['avg_glucose_level'][diabetes2['work_type'] == 'Never_worked'],\n",
        "               diabetes2['avg_glucose_level'][diabetes2['work_type'] == 'Private'],\n",
        "               diabetes2['avg_glucose_level'][diabetes2['work_type'] == 'children'],\n",
        "               diabetes2['avg_glucose_level'][diabetes2['work_type'] == 'Self-employed'])"
      ],
      "execution_count": null,
      "outputs": [
        {
          "output_type": "execute_result",
          "data": {
            "text/plain": [
              "BartlettResult(statistic=319.8230795459744, pvalue=5.726481665689854e-68)"
            ]
          },
          "metadata": {},
          "execution_count": 48
        }
      ]
    },
    {
      "cell_type": "code",
      "metadata": {
        "id": "CESVCNoIJQio"
      },
      "source": [
        "diabetes1 = pd.read_csv('Dataset of Diabetes  (1).csv')\n",
        "diabetes1"
      ],
      "execution_count": null,
      "outputs": []
    },
    {
      "cell_type": "markdown",
      "metadata": {
        "id": "4quIwvatN_ZG"
      },
      "source": [
        "assumptions\n",
        "\n"
      ]
    },
    {
      "cell_type": "markdown",
      "metadata": {
        "id": "608Y4si4PEz9"
      },
      "source": [
        ""
      ]
    },
    {
      "cell_type": "code",
      "metadata": {
        "id": "Q8qx30T5MDjE"
      },
      "source": [
        "model = smf.ols(\"bmi ~ C(work_type)\", data = diabetes2).fit()\n",
        "stats.shapiro(model.resid)"
      ],
      "execution_count": null,
      "outputs": []
    },
    {
      "cell_type": "code",
      "metadata": {
        "id": "spgaUdKHOFwI"
      },
      "source": [
        "model = smf.ols(\"bmi ~ C(smoking_status)\", data = diabetes2).fit()\n",
        "stats.shapiro(model.resid)"
      ],
      "execution_count": null,
      "outputs": []
    },
    {
      "cell_type": "code",
      "metadata": {
        "colab": {
          "base_uri": "https://localhost:8080/"
        },
        "id": "MV0PbK4ZOKA8",
        "outputId": "d8fae94e-066f-4391-e7be-7bab36a9615d"
      },
      "source": [
        "model = smf.ols(\"bmi ~ C(gender)\", data = diabetes2).fit()\n",
        "stats.shapiro(model.resid)"
      ],
      "execution_count": null,
      "outputs": [
        {
          "output_type": "stream",
          "name": "stderr",
          "text": [
            "/usr/local/lib/python3.7/dist-packages/scipy/stats/morestats.py:1676: UserWarning: p-value may not be accurate for N > 5000.\n",
            "  warnings.warn(\"p-value may not be accurate for N > 5000.\")\n"
          ]
        },
        {
          "output_type": "execute_result",
          "data": {
            "text/plain": [
              "(0.039049506187438965, 0.0)"
            ]
          },
          "metadata": {},
          "execution_count": 17
        }
      ]
    },
    {
      "cell_type": "code",
      "metadata": {
        "colab": {
          "base_uri": "https://localhost:8080/"
        },
        "id": "BxaRQAtPO8dD",
        "outputId": "e0a65962-f72f-46f9-dd72-02e14b2515c1"
      },
      "source": [
        "model = smf.ols(\"avg_glucose_level ~ C(work_type)\", data = diabetes2).fit()\n",
        "stats.shapiro(model.resid)"
      ],
      "execution_count": null,
      "outputs": [
        {
          "output_type": "stream",
          "name": "stderr",
          "text": [
            "/usr/local/lib/python3.7/dist-packages/scipy/stats/morestats.py:1676: UserWarning: p-value may not be accurate for N > 5000.\n",
            "  warnings.warn(\"p-value may not be accurate for N > 5000.\")\n"
          ]
        },
        {
          "output_type": "execute_result",
          "data": {
            "text/plain": [
              "(0.822029709815979, 0.0)"
            ]
          },
          "metadata": {},
          "execution_count": 26
        }
      ]
    },
    {
      "cell_type": "code",
      "metadata": {
        "colab": {
          "base_uri": "https://localhost:8080/"
        },
        "id": "4uLCGLSTOLJX",
        "outputId": "4edebeed-86a5-4182-8d0d-4b6e7aa022d8"
      },
      "source": [
        "model = smf.ols(\"avg_glucose_level ~ C(gender)\", data = diabetes2).fit()\n",
        "stats.shapiro(model.resid)"
      ],
      "execution_count": null,
      "outputs": [
        {
          "output_type": "stream",
          "name": "stderr",
          "text": [
            "/usr/local/lib/python3.7/dist-packages/scipy/stats/morestats.py:1676: UserWarning: p-value may not be accurate for N > 5000.\n",
            "  warnings.warn(\"p-value may not be accurate for N > 5000.\")\n"
          ]
        },
        {
          "output_type": "execute_result",
          "data": {
            "text/plain": [
              "(0.8088995218276978, 0.0)"
            ]
          },
          "metadata": {},
          "execution_count": 19
        }
      ]
    },
    {
      "cell_type": "code",
      "metadata": {
        "colab": {
          "base_uri": "https://localhost:8080/"
        },
        "id": "mVyVl07OO30g",
        "outputId": "7c98bf72-2dce-479c-cfe3-052471a1df98"
      },
      "source": [
        "model = smf.ols(\"avg_glucose_level ~ C(smoking_status)\", data = diabetes2).fit()\n",
        "stats.shapiro(model.resid)"
      ],
      "execution_count": null,
      "outputs": [
        {
          "output_type": "stream",
          "name": "stderr",
          "text": [
            "/usr/local/lib/python3.7/dist-packages/scipy/stats/morestats.py:1676: UserWarning: p-value may not be accurate for N > 5000.\n",
            "  warnings.warn(\"p-value may not be accurate for N > 5000.\")\n"
          ]
        },
        {
          "output_type": "execute_result",
          "data": {
            "text/plain": [
              "(0.8196660280227661, 0.0)"
            ]
          },
          "metadata": {},
          "execution_count": 25
        }
      ]
    },
    {
      "cell_type": "markdown",
      "metadata": {
        "id": "V0fuAnNXOy7y"
      },
      "source": [
        "Kurtosis Test "
      ]
    },
    {
      "cell_type": "code",
      "metadata": {
        "colab": {
          "base_uri": "https://localhost:8080/"
        },
        "id": "V8jQWVvGOqLo",
        "outputId": "18417144-1e55-4cb0-dfa5-b2145a5fbc79"
      },
      "source": [
        "model = smf.ols(\"avg_glucose_level ~ C(smoking_status)\", data= diabetes2).fit()\n",
        "\n",
        "stats.kstest(model.resid, 'norm')"
      ],
      "execution_count": null,
      "outputs": [
        {
          "output_type": "execute_result",
          "data": {
            "text/plain": [
              "KstestResult(statistic=0.6443890725064267, pvalue=0.0)"
            ]
          },
          "metadata": {},
          "execution_count": 24
        }
      ]
    },
    {
      "cell_type": "code",
      "metadata": {
        "colab": {
          "base_uri": "https://localhost:8080/"
        },
        "id": "v35gefjqOUa0",
        "outputId": "ce6d3e94-d1a7-4dd9-81da-0d4619f741d5"
      },
      "source": [
        "model = smf.ols(\"avg_glucose_level ~ C(gender)\", data= diabetes2).fit()\n",
        "\n",
        "stats.kstest(model.resid, 'norm')"
      ],
      "execution_count": null,
      "outputs": [
        {
          "output_type": "execute_result",
          "data": {
            "text/plain": [
              "KstestResult(statistic=0.6470255561912177, pvalue=0.0)"
            ]
          },
          "metadata": {},
          "execution_count": 22
        }
      ]
    },
    {
      "cell_type": "code",
      "metadata": {
        "colab": {
          "base_uri": "https://localhost:8080/"
        },
        "id": "Hb-YPLmyOkuR",
        "outputId": "8fe7190e-af31-44ab-df58-cdc5d56dbd4c"
      },
      "source": [
        "model = smf.ols(\"avg_glucose_level ~ C(work_type)\", data= diabetes2).fit()\n",
        "\n",
        "stats.kstest(model.resid, 'norm')"
      ],
      "execution_count": null,
      "outputs": [
        {
          "output_type": "execute_result",
          "data": {
            "text/plain": [
              "KstestResult(statistic=0.6402227497748976, pvalue=0.0)"
            ]
          },
          "metadata": {},
          "execution_count": 23
        }
      ]
    },
    {
      "cell_type": "markdown",
      "metadata": {
        "id": "_PO8tTHlPPMq"
      },
      "source": [
        "Histograms"
      ]
    },
    {
      "cell_type": "code",
      "metadata": {
        "id": "mSLIkRB-QUzT"
      },
      "source": [
        "smoking_status1 = diabetes2[diabetes2['smoking_status'] == 'smokes']\n",
        "smoking_status2 = diabetes2[diabetes2['smoking_status'] == 'never smoked']\n",
        "smoking_status3 = diabetes2[diabetes2['smoking_status'] == 'formerly smoked']"
      ],
      "execution_count": null,
      "outputs": []
    },
    {
      "cell_type": "code",
      "metadata": {
        "id": "hem19Gk1Qjyv"
      },
      "source": [
        "plt.hist(smoking_status1['avg_glucose_level'])\n",
        "plt.show()\n",
        "\n",
        "plt.hist(smoking_status2['avg_glucose_level'])\n",
        "plt.show()\n",
        "\n",
        "plt.hist(smoking_status3['avg_glucose_level'])\n",
        "plt.show()"
      ],
      "execution_count": null,
      "outputs": []
    },
    {
      "cell_type": "code",
      "metadata": {
        "id": "IESnVUkiPQvP"
      },
      "source": [
        "gender1 = diabetes2[diabetes2['gender'] == 'Male']\n",
        "gender2 = diabetes2[diabetes2['gender'] == 'Female']\n",
        "gender3 = diabetes2[diabetes2['gender'] == 'Other']"
      ],
      "execution_count": null,
      "outputs": []
    },
    {
      "cell_type": "code",
      "metadata": {
        "id": "m0Kr9hTCPcku"
      },
      "source": [
        "plt.hist(gender1['avg_glucose_level'])\n",
        "plt.show()\n",
        "\n",
        "plt.hist(gender2['avg_glucose_level'])\n",
        "plt.show()\n",
        "\n",
        "plt.hist(gender3['avg_glucose_level'])\n",
        "plt.show()"
      ],
      "execution_count": null,
      "outputs": []
    },
    {
      "cell_type": "code",
      "metadata": {
        "id": "9v22UdajPwQY"
      },
      "source": [
        "work_type1 = diabetes2[diabetes2['work_type'] == 'children']\n",
        "work_type2 = diabetes2[diabetes2['work_type'] == 'Self-employed']\n",
        "work_type3 = diabetes2[diabetes2['work_type'] == 'Private']\n",
        "work_type4 = diabetes2[diabetes2['work_type'] == 'Govt_job']\n",
        "work_type5 = diabetes2[diabetes2['work_type'] == 'Never_worked']"
      ],
      "execution_count": null,
      "outputs": []
    },
    {
      "cell_type": "code",
      "metadata": {
        "colab": {
          "base_uri": "https://localhost:8080/",
          "height": 1000
        },
        "id": "ddWlGX-0QG3I",
        "outputId": "90a2803c-8b27-4319-fc15-dd3983f73d38"
      },
      "source": [
        "plt.hist(work_type1['avg_glucose_level'])\n",
        "plt.show()\n",
        "\n",
        "plt.hist(work_type2['avg_glucose_level'])\n",
        "plt.show()\n",
        "\n",
        "plt.hist(work_type3['avg_glucose_level'])\n",
        "plt.show()\n",
        "plt.hist(work_type4['avg_glucose_level'])\n",
        "plt.show()\n",
        "plt.hist(work_type5['avg_glucose_level'])\n",
        "plt.show()\n"
      ],
      "execution_count": null,
      "outputs": [
        {
          "output_type": "display_data",
          "data": {
            "image/png": "[encoded data removed]",
            "text/plain": [
              "<Figure size 432x288 with 1 Axes>"
            ]
          },
          "metadata": {
            "needs_background": "light"
          }
        },
        {
          "output_type": "display_data",
          "data": {
            "image/png": "[encoded data removed]",
            "text/plain": [
              "<Figure size 432x288 with 1 Axes>"
            ]
          },
          "metadata": {
            "needs_background": "light"
          }
        },
        {
          "output_type": "display_data",
          "data": {
            "image/png": "[encoded data removed]",
            "text/plain": [
              "<Figure size 432x288 with 1 Axes>"
            ]
          },
          "metadata": {
            "needs_background": "light"
          }
        },
        {
          "output_type": "display_data",
          "data": {
            "image/png": "[encoded data removed]",
            "text/plain": [
              "<Figure size 432x288 with 1 Axes>"
            ]
          },
          "metadata": {
            "needs_background": "light"
          }
        },
        {
          "output_type": "display_data",
          "data": {
            "image/png": "[encoded data removed]",
            "text/plain": [
              "<Figure size 432x288 with 1 Axes>"
            ]
          },
          "metadata": {
            "needs_background": "light"
          }
        }
      ]
    },
    {
      "cell_type": "markdown",
      "metadata": {
        "id": "zr6nWssSRapO"
      },
      "source": [
        "ANOVA one-way test \n",
        "\n",
        "-this test is comparing the different outcomes of the multiple varibles on the avg sugar "
      ]
    },
    {
      "cell_type": "code",
      "metadata": {
        "colab": {
          "base_uri": "https://localhost:8080/"
        },
        "id": "b5UPHEavRYhx",
        "outputId": "1b0ddf49-0dc8-4384-91cf-9604180fef35"
      },
      "source": [
        "stats.f_oneway(diabetes2['avg_glucose_level'][diabetes2['work_type'] == 'children'],\n",
        "               diabetes2['avg_glucose_level'][diabetes2['work_type'] == 'Self-employed'],\n",
        "               diabetes2['avg_glucose_level'][diabetes2['work_type'] == 'Private'],\n",
        "               diabetes2['avg_glucose_level'][diabetes2['work_type'] == 'Govt_job'],\n",
        "               diabetes2['avg_glucose_level'][diabetes2['work_type'] == 'Never_worked'],)\n",
        "              "
      ],
      "execution_count": null,
      "outputs": [
        {
          "output_type": "execute_result",
          "data": {
            "text/plain": [
              "F_onewayResult(statistic=16.61227264195557, pvalue=1.558660340511671e-13)"
            ]
          },
          "metadata": {},
          "execution_count": 55
        }
      ]
    },
    {
      "cell_type": "markdown",
      "metadata": {
        "id": "W6JaUOtpRzxN"
      },
      "source": [
        "there is a difference between the sugar levels and the work types because the p levels are greater than 0.05 which means there is a normal distribution which allows us to reject the null hypothesis."
      ]
    },
    {
      "cell_type": "code",
      "metadata": {
        "colab": {
          "base_uri": "https://localhost:8080/"
        },
        "id": "odTsfx74SfES",
        "outputId": "faf140af-8fb9-45cd-d8fa-2e87243932ca"
      },
      "source": [
        "stats.f_oneway(diabetes2['avg_glucose_level'][diabetes2['gender'] == 'Male'],\n",
        "               diabetes2['avg_glucose_level'][diabetes2['gender'] == 'Female'],\n",
        "               diabetes2['avg_glucose_level'][diabetes2['gender'] == 'Other'])"
      ],
      "execution_count": null,
      "outputs": [
        {
          "output_type": "execute_result",
          "data": {
            "text/plain": [
              "F_onewayResult(statistic=8.007533037840831, pvalue=0.00033714286225650867)"
            ]
          },
          "metadata": {},
          "execution_count": 42
        }
      ]
    },
    {
      "cell_type": "markdown",
      "metadata": {
        "id": "_ne9cRadSukr"
      },
      "source": [
        "The results indicate that the p value levels is (<0.05) which means that there is a difference which means that we are unable to reject the null."
      ]
    },
    {
      "cell_type": "code",
      "metadata": {
        "colab": {
          "base_uri": "https://localhost:8080/"
        },
        "id": "PuYeWMiASe7h",
        "outputId": "3414ee35-7219-406b-a956-b6d553afe417"
      },
      "source": [
        "stats.f_oneway(diabetes2['avg_glucose_level'][diabetes2['smoking_status'] == 'smokes'],\n",
        "               diabetes2['avg_glucose_level'][diabetes2['smoking_status'] == 'never smoked'],\n",
        "               diabetes2['avg_glucose_level'][diabetes2['smoking_status'] == 'formerly smoked'])"
      ],
      "execution_count": null,
      "outputs": [
        {
          "output_type": "execute_result",
          "data": {
            "text/plain": [
              "F_onewayResult(statistic=3.878053776374907, pvalue=0.02077844918635327)"
            ]
          },
          "metadata": {},
          "execution_count": 43
        }
      ]
    },
    {
      "cell_type": "markdown",
      "metadata": {
        "id": "4G_HrEhxTnWu"
      },
      "source": [
        "This result indicates that the p value level is <0.05 which means that there is a significance in smoking status and suggar level. This also means that we are unable to reject the null hypothesis."
      ]
    },
    {
      "cell_type": "markdown",
      "metadata": {
        "id": "JwmZ-_EQUcbq"
      },
      "source": [
        "Post-hoc tests\n",
        "\n",
        "-done after to find where the differneces are comingg from "
      ]
    },
    {
      "cell_type": "code",
      "metadata": {
        "id": "2yN3Hl29UZ9B"
      },
      "source": [
        "comp = mc.MultiComparison(diabetes2['avg_glucose_level'], diabetes2['work_type'])\n",
        "post_hoc_res2 = comp.tukeyhsd()\n",
        "tukey1way2 = pd.DataFrame(post_hoc_res2.summary())"
      ],
      "execution_count": null,
      "outputs": []
    },
    {
      "cell_type": "code",
      "metadata": {
        "colab": {
          "base_uri": "https://localhost:8080/"
        },
        "id": "jXXKi89QUuAy",
        "outputId": "1fcf9c14-bc35-4e10-e7b5-75d1fce34bda"
      },
      "source": [
        "print(post_hoc_res2)"
      ],
      "execution_count": null,
      "outputs": [
        {
          "output_type": "stream",
          "name": "stdout",
          "text": [
            "        Multiple Comparison of Means - Tukey HSD, FWER=0.05         \n",
            "====================================================================\n",
            "    group1        group2    meandiff p-adj   lower    upper   reject\n",
            "--------------------------------------------------------------------\n",
            "     Govt_job  Never_worked  -11.737 0.7225 -38.3568  14.8827  False\n",
            "     Govt_job       Private  -0.9829    0.9  -6.2854   4.3196  False\n",
            "     Govt_job Self-employed   4.8657  0.236  -1.5669  11.2982  False\n",
            "     Govt_job      children -13.3795  0.001 -20.0815  -6.6775   True\n",
            " Never_worked       Private  10.7541 0.7717 -15.5291  37.0374  False\n",
            " Never_worked Self-employed  16.6027 0.4311  -9.9316   43.137  False\n",
            " Never_worked      children  -1.6425    0.9 -28.2434  24.9585  False\n",
            "      Private Self-employed   5.8486  0.009   0.9932   10.704   True\n",
            "      Private      children -12.3966  0.001 -17.6037  -7.1895   True\n",
            "Self-employed      children -18.2452  0.001 -24.5993 -11.8911   True\n",
            "--------------------------------------------------------------------\n"
          ]
        }
      ]
    },
    {
      "cell_type": "code",
      "metadata": {
        "colab": {
          "base_uri": "https://localhost:8080/"
        },
        "id": "bSlALld-Uw6m",
        "outputId": "4e718ba8-d004-400c-daac-6fda4727f270"
      },
      "source": [
        "print(tukey1way2)"
      ],
      "execution_count": null,
      "outputs": [
        {
          "output_type": "stream",
          "name": "stdout",
          "text": [
            "                0              1         2       3         4         5       6\n",
            "0          group1         group2  meandiff   p-adj     lower     upper  reject\n",
            "1        Govt_job   Never_worked   -11.737  0.7225  -38.3568   14.8827   False\n",
            "2        Govt_job        Private   -0.9829     0.9   -6.2854    4.3196   False\n",
            "3        Govt_job  Self-employed    4.8657   0.236   -1.5669   11.2982   False\n",
            "4        Govt_job       children  -13.3795   0.001  -20.0815   -6.6775    True\n",
            "5    Never_worked        Private   10.7541  0.7717  -15.5291   37.0374   False\n",
            "6    Never_worked  Self-employed   16.6027  0.4311   -9.9316    43.137   False\n",
            "7    Never_worked       children   -1.6425     0.9  -28.2434   24.9585   False\n",
            "8         Private  Self-employed    5.8486   0.009    0.9932    10.704    True\n",
            "9         Private       children  -12.3966   0.001  -17.6037   -7.1895    True\n",
            "10  Self-employed       children  -18.2452   0.001  -24.5993  -11.8911    True\n"
          ]
        }
      ]
    },
    {
      "cell_type": "code",
      "metadata": {
        "colab": {
          "base_uri": "https://localhost:8080/",
          "height": 235
        },
        "id": "9B_a3qkmUz1a",
        "outputId": "e8a6d345-5fe7-4d8e-ea1f-e60fb0398956"
      },
      "source": [
        "diabetes2[[\"work_type\", \"avg_glucose_level\"]].groupby(\"work_type\").mean()"
      ],
      "execution_count": null,
      "outputs": [
        {
          "output_type": "execute_result",
          "data": {
            "text/html": [
              "<div>\n",
              "<style scoped>\n",
              "    .dataframe tbody tr th:only-of-type {\n",
              "        vertical-align: middle;\n",
              "    }\n",
              "\n",
              "    .dataframe tbody tr th {\n",
              "        vertical-align: top;\n",
              "    }\n",
              "\n",
              "    .dataframe thead th {\n",
              "        text-align: right;\n",
              "    }\n",
              "</style>\n",
              "<table border=\"1\" class=\"dataframe\">\n",
              "  <thead>\n",
              "    <tr style=\"text-align: right;\">\n",
              "      <th></th>\n",
              "      <th>avg_glucose_level</th>\n",
              "    </tr>\n",
              "    <tr>\n",
              "      <th>work_type</th>\n",
              "      <th></th>\n",
              "    </tr>\n",
              "  </thead>\n",
              "  <tbody>\n",
              "    <tr>\n",
              "      <th>Govt_job</th>\n",
              "      <td>107.779772</td>\n",
              "    </tr>\n",
              "    <tr>\n",
              "      <th>Never_worked</th>\n",
              "      <td>96.042727</td>\n",
              "    </tr>\n",
              "    <tr>\n",
              "      <th>Private</th>\n",
              "      <td>106.796844</td>\n",
              "    </tr>\n",
              "    <tr>\n",
              "      <th>Self-employed</th>\n",
              "      <td>112.645446</td>\n",
              "    </tr>\n",
              "    <tr>\n",
              "      <th>children</th>\n",
              "      <td>94.400277</td>\n",
              "    </tr>\n",
              "  </tbody>\n",
              "</table>\n",
              "</div>"
            ],
            "text/plain": [
              "               avg_glucose_level\n",
              "work_type                       \n",
              "Govt_job              107.779772\n",
              "Never_worked           96.042727\n",
              "Private               106.796844\n",
              "Self-employed         112.645446\n",
              "children               94.400277"
            ]
          },
          "metadata": {},
          "execution_count": 47
        }
      ]
    },
    {
      "cell_type": "markdown",
      "metadata": {
        "id": "fgyyt-UzWIr3"
      },
      "source": [
        "results of the type of work and the average suagr levels for each group\n",
        "\n",
        "1.Govt_job and private = -0.9829\n",
        "2. Never_worked and children = -1.6425\n",
        "3.Private and self-emplyed = 5.8486\n",
        "4.self-employed and children = -18.2452\n",
        "5.Govt_job and never_worked = -11.737"
      ]
    },
    {
      "cell_type": "code",
      "metadata": {
        "id": "R-DBITpPWGPs"
      },
      "source": [
        "comp = mc.MultiComparison(diabetes2['avg_glucose_level'], diabetes2['gender'])\n",
        "post_hoc_res = comp.tukeyhsd()\n",
        "tukey1way = pd.DataFrame(post_hoc_res.summary())"
      ],
      "execution_count": null,
      "outputs": []
    },
    {
      "cell_type": "code",
      "metadata": {
        "colab": {
          "base_uri": "https://localhost:8080/"
        },
        "id": "v9knDQmgXb0a",
        "outputId": "d93bb866-292f-44f5-a630-819770f4a506"
      },
      "source": [
        "print(post_hoc_res)"
      ],
      "execution_count": null,
      "outputs": [
        {
          "output_type": "stream",
          "name": "stdout",
          "text": [
            " Multiple Comparison of Means - Tukey HSD, FWER=0.05  \n",
            "======================================================\n",
            "group1 group2 meandiff p-adj   lower    upper   reject\n",
            "------------------------------------------------------\n",
            "Female   Male   5.0307  0.001   2.0193   8.0421   True\n",
            "Female  Other  39.2722 0.6468 -66.7629 145.3073  False\n",
            "  Male  Other  34.2415 0.7105 -71.8009 140.2839  False\n",
            "------------------------------------------------------\n"
          ]
        }
      ]
    },
    {
      "cell_type": "code",
      "metadata": {
        "colab": {
          "base_uri": "https://localhost:8080/"
        },
        "id": "AY8TNnZmXeXs",
        "outputId": "cdd2a4f8-4624-45d6-ec5d-5dc9a90b1f75"
      },
      "source": [
        "print(tukey1way)"
      ],
      "execution_count": null,
      "outputs": [
        {
          "output_type": "stream",
          "name": "stdout",
          "text": [
            "        0       1         2       3         4         5       6\n",
            "0  group1  group2  meandiff   p-adj     lower     upper  reject\n",
            "1  Female    Male    5.0307   0.001    2.0193    8.0421    True\n",
            "2  Female   Other   39.2722  0.6468  -66.7629  145.3073   False\n",
            "3    Male   Other   34.2415  0.7105  -71.8009  140.2839   False\n"
          ]
        }
      ]
    },
    {
      "cell_type": "code",
      "metadata": {
        "colab": {
          "base_uri": "https://localhost:8080/",
          "height": 173
        },
        "id": "4vT5WgVAXhjH",
        "outputId": "d6c175e0-e625-4f50-fcb9-1c7cf5c0421c"
      },
      "source": [
        "diabetes2[[\"gender\", \"avg_glucose_level\"]].groupby(\"gender\").mean()"
      ],
      "execution_count": null,
      "outputs": [
        {
          "output_type": "execute_result",
          "data": {
            "text/html": [
              "<div>\n",
              "<style scoped>\n",
              "    .dataframe tbody tr th:only-of-type {\n",
              "        vertical-align: middle;\n",
              "    }\n",
              "\n",
              "    .dataframe tbody tr th {\n",
              "        vertical-align: top;\n",
              "    }\n",
              "\n",
              "    .dataframe thead th {\n",
              "        text-align: right;\n",
              "    }\n",
              "</style>\n",
              "<table border=\"1\" class=\"dataframe\">\n",
              "  <thead>\n",
              "    <tr style=\"text-align: right;\">\n",
              "      <th></th>\n",
              "      <th>avg_glucose_level</th>\n",
              "    </tr>\n",
              "    <tr>\n",
              "      <th>gender</th>\n",
              "      <th></th>\n",
              "    </tr>\n",
              "  </thead>\n",
              "  <tbody>\n",
              "    <tr>\n",
              "      <th>Female</th>\n",
              "      <td>104.057809</td>\n",
              "    </tr>\n",
              "    <tr>\n",
              "      <th>Male</th>\n",
              "      <td>109.088520</td>\n",
              "    </tr>\n",
              "    <tr>\n",
              "      <th>Other</th>\n",
              "      <td>143.330000</td>\n",
              "    </tr>\n",
              "  </tbody>\n",
              "</table>\n",
              "</div>"
            ],
            "text/plain": [
              "        avg_glucose_level\n",
              "gender                   \n",
              "Female         104.057809\n",
              "Male           109.088520\n",
              "Other          143.330000"
            ]
          },
          "metadata": {},
          "execution_count": 59
        }
      ]
    },
    {
      "cell_type": "markdown",
      "metadata": {
        "id": "GggeA02tXqiO"
      },
      "source": [
        "The results are the significance differnece in the average sugar levels and the levels between male,female, and other. \n",
        "1. Female and male = 5.0307\n",
        "2. Female and other = 39.2722\n",
        "3. Male and other =34.2415 "
      ]
    },
    {
      "cell_type": "code",
      "metadata": {
        "id": "kmPrLv6kYU9j"
      },
      "source": [
        "comp = mc.MultiComparison(diabetes2['avg_glucose_level'], diabetes2['smoking_status'])\n",
        "post_hoc_res1 = comp.tukeyhsd()\n",
        "tukey1way1 = pd.DataFrame(post_hoc_res1.summary())"
      ],
      "execution_count": null,
      "outputs": []
    },
    {
      "cell_type": "code",
      "metadata": {
        "colab": {
          "base_uri": "https://localhost:8080/"
        },
        "id": "zLka_isHYZJF",
        "outputId": "1e1413f3-8e07-4f73-c1e2-1cb1f8c6c482"
      },
      "source": [
        "print(post_hoc_res1)"
      ],
      "execution_count": null,
      "outputs": [
        {
          "output_type": "stream",
          "name": "stdout",
          "text": [
            "          Multiple Comparison of Means - Tukey HSD, FWER=0.05          \n",
            "=======================================================================\n",
            "     group1          group2     meandiff p-adj   lower    upper  reject\n",
            "-----------------------------------------------------------------------\n",
            "        Unknown formerly smoked  13.2845  0.001   8.4031  18.166   True\n",
            "        Unknown    never smoked   7.9566  0.001   3.9858 11.9273   True\n",
            "        Unknown          smokes   8.4159  0.001   3.3492 13.4826   True\n",
            "formerly smoked    never smoked   -5.328 0.0194  -10.043  -0.613   True\n",
            "formerly smoked          smokes  -4.8686 0.1216 -10.5375  0.8002  False\n",
            "   never smoked          smokes   0.4593    0.9  -4.4472  5.3659  False\n",
            "-----------------------------------------------------------------------\n"
          ]
        }
      ]
    },
    {
      "cell_type": "code",
      "metadata": {
        "colab": {
          "base_uri": "https://localhost:8080/"
        },
        "id": "UjYSZHXtYbQk",
        "outputId": "ec4bab63-2da1-45d1-ca39-01375b18466a"
      },
      "source": [
        "print(tukey1way1)"
      ],
      "execution_count": null,
      "outputs": [
        {
          "output_type": "stream",
          "name": "stdout",
          "text": [
            "                 0                1         2  ...         4        5       6\n",
            "0           group1           group2  meandiff  ...     lower    upper  reject\n",
            "1          Unknown  formerly smoked   13.2845  ...    8.4031   18.166    True\n",
            "2          Unknown     never smoked    7.9566  ...    3.9858  11.9273    True\n",
            "3          Unknown           smokes    8.4159  ...    3.3492  13.4826    True\n",
            "4  formerly smoked     never smoked    -5.328  ...   -10.043   -0.613    True\n",
            "5  formerly smoked           smokes   -4.8686  ...  -10.5375   0.8002   False\n",
            "6     never smoked           smokes    0.4593  ...   -4.4472   5.3659   False\n",
            "\n",
            "[7 rows x 7 columns]\n"
          ]
        }
      ]
    },
    {
      "cell_type": "code",
      "metadata": {
        "colab": {
          "base_uri": "https://localhost:8080/",
          "height": 204
        },
        "id": "D9othI-FYey0",
        "outputId": "d2d1776c-5472-4690-da6c-2811d2e56d2a"
      },
      "source": [
        "diabetes2[[\"smoking_status\", \"avg_glucose_level\"]].groupby(\"smoking_status\").mean()"
      ],
      "execution_count": null,
      "outputs": [
        {
          "output_type": "execute_result",
          "data": {
            "text/html": [
              "<div>\n",
              "<style scoped>\n",
              "    .dataframe tbody tr th:only-of-type {\n",
              "        vertical-align: middle;\n",
              "    }\n",
              "\n",
              "    .dataframe tbody tr th {\n",
              "        vertical-align: top;\n",
              "    }\n",
              "\n",
              "    .dataframe thead th {\n",
              "        text-align: right;\n",
              "    }\n",
              "</style>\n",
              "<table border=\"1\" class=\"dataframe\">\n",
              "  <thead>\n",
              "    <tr style=\"text-align: right;\">\n",
              "      <th></th>\n",
              "      <th>avg_glucose_level</th>\n",
              "    </tr>\n",
              "    <tr>\n",
              "      <th>smoking_status</th>\n",
              "      <th></th>\n",
              "    </tr>\n",
              "  </thead>\n",
              "  <tbody>\n",
              "    <tr>\n",
              "      <th>Unknown</th>\n",
              "      <td>99.601541</td>\n",
              "    </tr>\n",
              "    <tr>\n",
              "      <th>formerly smoked</th>\n",
              "      <td>112.886079</td>\n",
              "    </tr>\n",
              "    <tr>\n",
              "      <th>never smoked</th>\n",
              "      <td>107.558092</td>\n",
              "    </tr>\n",
              "    <tr>\n",
              "      <th>smokes</th>\n",
              "      <td>108.017440</td>\n",
              "    </tr>\n",
              "  </tbody>\n",
              "</table>\n",
              "</div>"
            ],
            "text/plain": [
              "                 avg_glucose_level\n",
              "smoking_status                    \n",
              "Unknown                  99.601541\n",
              "formerly smoked         112.886079\n",
              "never smoked            107.558092\n",
              "smokes                  108.017440"
            ]
          },
          "metadata": {},
          "execution_count": 63
        }
      ]
    },
    {
      "cell_type": "markdown",
      "metadata": {
        "id": "TayvBQpxYqFT"
      },
      "source": [
        "This is the result of the significance diffference betwwen the average sugar levles and the smoking status \n",
        "\n",
        "1.Unknown and formerly smoked-mean difference=13.2845\n",
        "2.Unknown and smokes: mean difff =8.4159\n",
        "3.Formerly smoked and smokes: mean diff = -4.8686\n",
        "4.Formerly smoked and never smoked = -5.328\n",
        "5.never smoked and smoked: mean diff = 0.4593   "
      ]
    },
    {
      "cell_type": "code",
      "metadata": {
        "id": "q20qtidAYmkv"
      },
      "source": [
        ""
      ],
      "execution_count": null,
      "outputs": []
    }
  ]
}